{
  "nbformat": 4,
  "nbformat_minor": 0,
  "metadata": {
    "colab": {
      "provenance": [],
      "gpuType": "T4"
    },
    "kernelspec": {
      "name": "python3",
      "display_name": "Python 3"
    },
    "language_info": {
      "name": "python"
    },
    "accelerator": "GPU"
  },
  "cells": [
    {
      "cell_type": "markdown",
      "source": [
        "## Explorando Stable Diffusion XL (SDXL)\n",
        "Stable Diffusion XL (SDXL) representa la última generación de modelos de Stable Diffusion y ofrece una calidad de imagen aún superior, mayor resolución nativa y una mejor comprensión de `prompts` complejos. Es ideal para aplicaciones profesionales y resultados de alta fidelidad."
      ],
      "metadata": {
        "id": "0DKP7793SPYJ"
      }
    },
    {
      "cell_type": "code",
      "source": [
        "# Paso 1: Instalar las librerías necesarias\n",
        "# 'diffusers' es la biblioteca principal que proporciona las herramientas para los modelos de difusión.\n",
        "# 'transformers' se usa para manejar los codificadores de texto que interpretan nuestros prompts.\n",
        "# 'accelerate' ayuda a optimizar el rendimiento del modelo en diferentes dispositivos (como GPUs).\n",
        "# '-q' al final significa 'quiet', para que la instalación sea menos verbosa.\n",
        "!pip install diffusers transformers accelerate -q\n",
        "\n",
        "# 'torch' es la biblioteca fundamental de PyTorch, necesaria para las operaciones de tensores y redes neuronales.\n",
        "!pip install torch -q\n",
        "\n",
        "# 'scipy' es una biblioteca para computación científica, a veces necesaria para algunas funcionalidades internas.\n",
        "!pip install --upgrade scipy"
      ],
      "metadata": {
        "id": "Xy4gMU5bSdMj"
      },
      "execution_count": null,
      "outputs": []
    },
    {
      "cell_type": "code",
      "execution_count": null,
      "metadata": {
        "id": "LidHEIehSOTW"
      },
      "outputs": [],
      "source": [
        "# Paso 2: Importar las bibliotecas necesarias para nuestro script\n",
        "# StableDiffusionPipeline es la clase principal de diffusers para cargar y ejecutar los modelos de Stable Diffusion.\n",
        "from diffusers import StableDiffusionXLPipeline\n",
        "\n",
        "# torch es la biblioteca de PyTorch, utilizada aquí para especificar el tipo de datos (ej. float16).\n",
        "import torch\n",
        "\n",
        "# IPython.display.display nos permite mostrar imágenes directamente en el cuaderno de Colab.\n",
        "from IPython.display import display\n",
        "\n",
        "# PIL (Pillow) es una biblioteca de procesamiento de imágenes que se utiliza para manipular y mostrar las imágenes generadas.\n",
        "from PIL import Image"
      ]
    },
    {
      "cell_type": "code",
      "source": [
        "# Cargamos el modelo preentrenado de Stable Diffusion XL (SDXL Base 1.0).\n",
        "# Este modelo es significativamente más grande y potente que las versiones anteriores.\n",
        "# Nuevamente, usamos `torch_dtype=torch.float16` para optimizar el uso de memoria en la GPU.\n",
        "print(\"Cargando Stable Diffusion XL (SDXL Base 1.0). Esto puede tardar unos minutos...\")\n",
        "pipe_xl = StableDiffusionXLPipeline.from_pretrained(\n",
        "    \"stabilityai/stable-diffusion-xl-base-1.0\",\n",
        "    torch_dtype=torch.float16\n",
        ")"
      ],
      "metadata": {
        "id": "h6NWSEgxSsdd"
      },
      "execution_count": null,
      "outputs": []
    },
    {
      "cell_type": "code",
      "source": [
        "# Movemos el modelo a la GPU para aprovechar los recursos y hacer el procesamiento más rápido.\n",
        "pipe_xl.to(\"cuda\")\n",
        "print(\"Modelo SDXL cargado y listo en la GPU.\")"
      ],
      "metadata": {
        "id": "J87gexN8SvrF"
      },
      "execution_count": null,
      "outputs": []
    },
    {
      "cell_type": "code",
      "source": [
        "# Definimos una función para generar imágenes específicamente con Stable Diffusion XL.\n",
        "def generar_imagen_xl(prompt, num_images=1):\n",
        "    # SDXL a menudo rinde mejor con un guidance_scale ligeramente más bajo o similar a 2.1.\n",
        "    # Los num_inference_steps son también importantes para la calidad.\n",
        "    images = pipe_xl(prompt, num_inference_steps=50, guidance_scale=7.5).images\n",
        "    return images"
      ],
      "metadata": {
        "id": "9AYfi2zeSxOs"
      },
      "execution_count": null,
      "outputs": []
    },
    {
      "cell_type": "code",
      "source": [
        "# Aquí puedes pedir a los estudiantes que escriban su propio prompt o usar uno predefinido.\n",
        "# Este prompt es el mismo que usamos para V2.1 para facilitar la comparación de calidad.\n",
        "prompt_xl = (\n",
        "    \"\"\"A masterpiece, hyper-detailed photograph of a swimming pool filled with multiple people swimming and lounging. The scene is dramatically lit with the intense, theatrical chiaroscuro of Caravaggio, featuring deep, velvety shadows and stark, focused highlights that sculpt the forms and create a sense of profound realism. This monochromatic foundation (evoking the timeless texture and subtle grain of an aged black and white calotype, with a slightly faded, classic elegance) is then brilliantly saturated and reimagined with the vibrant, sun-drenched color palette of David Hockney.\n",
        "Expect luminous aquas and brilliant blues for the water, radiant yellows and oranges from the sunlight, and lush, contrasting greens from surrounding foliage. The composition should be dynamic yet serene, capturing both lively movement and quiet reflection. The overall atmosphere is intensely nostalgic yet strikingly energetic and optimistic, seamlessly blending classic artistic techniques with a contemporary, pop-art sensibility.\n",
        "Aspects: (swimming pool, swimmers, divers, leisure, sun-drenched, reflections, ripples, movement, classic, modern, nostalgia, energy, serene, lively, captivating, timeless)\n",
        "Style: (photorealistic, fine art photography, cinematic, David Hockney style, Caravaggio lighting, calotype aesthetics, high contrast, vivid colors, dramatic shadows, texture, grain, depth of field)\n",
        "Negative Prompt: (blurry, dull, desaturated, ugly, deformed, noisy, grainy, poor lighting, low quality, cartoon, illustration, drawing, painting strokes, wrong colors, low contrast, text, logo)\"\"\"\n",
        ")\n"
      ],
      "metadata": {
        "id": "l-ONVf80SzfT"
      },
      "execution_count": null,
      "outputs": []
    },
    {
      "cell_type": "code",
      "source": [
        "# Llamamos a la función para generar la imagen con Stable Diffusion XL\n",
        "print(f\"Generando imagen con SDXL para el prompt: '{prompt_xl}'...\")\n",
        "images_xl = generar_imagen_xl(prompt_xl)\n",
        "\n",
        "# Mostramos la imagen generada\n",
        "for img in images_xl:\n",
        "    display(img)\n",
        "print(\"¡Generación con SDXL completada! Observa la mejora en detalle y realismo.\")"
      ],
      "metadata": {
        "id": "2uXYD40PS13S"
      },
      "execution_count": null,
      "outputs": []
    }
  ]
}