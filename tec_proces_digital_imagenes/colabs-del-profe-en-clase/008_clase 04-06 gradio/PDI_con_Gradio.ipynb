{
  "nbformat": 4,
  "nbformat_minor": 0,
  "metadata": {
    "colab": {
      "provenance": []
    },
    "kernelspec": {
      "name": "python3",
      "display_name": "Python 3"
    },
    "language_info": {
      "name": "python"
    }
  },
  "cells": [
    {
      "cell_type": "markdown",
      "source": [
        "# Creando Interfaces de PDI con Gradio\n",
        "\n",
        "Este cuaderno te guiará paso a paso para crear interfaces interactivas para tus aplicaciones de Procesamiento Digital de Imágenes (PDI) utilizando la librería Gradio.\n",
        "\n",
        "1. ¿Por qué Gradio?\n",
        "Gradio es una herramienta increíblemente útil para construir rápidamente interfaces web para tus modelos o funciones de Python. En PDI, te permite:\n",
        "\n",
        "* Visualizar tus algoritmos: Subi una imagen, aplica tu filtro y observá el resultado al instante.\n",
        "* Prototipar de forma ágil: Probá diferentes ideas sin escribir código complejo de interfaz de usuario.\n",
        "* Compartir tus proyectos: Genera un enlace público para que otros puedan usar tu aplicación de PDI.\n",
        "\n",
        "2. Preparando el Entorno: Instalación de Librerías\n",
        "Primero, necesitamos instalar las librerías necesarias. Ejecuta la siguiente celda para instalar Gradio, OpenCV y NumPy."
      ],
      "metadata": {
        "id": "c2cIPq0BbMQ-"
      }
    },
    {
      "cell_type": "code",
      "execution_count": null,
      "metadata": {
        "id": "yc3RR7BabLm6"
      },
      "outputs": [],
      "source": [
        "%%capture\n",
        "!pip install gradio opencv-python numpy matplotlib\n",
        "print(\"Librerías instaladas correctamente.\")"
      ]
    },
    {
      "cell_type": "markdown",
      "source": [
        "3. Conceptos Clave de Gradio\n",
        "Gradio es muy intuitivo. Los componentes principales que usaremos son:\n",
        "\n",
        "*   `gr.Interface`: La clase principal para crear nuestra interfaz. Le decimos qué función Python ejecutar, qué tipo de entradas y salidas tiene, y le damos un título y descripción.\n",
        "*   Componentes de Entrada/Salida:\n",
        "    *   `gr.Image`: Para subir, mostrar y manipular imágenes. Cuando lo uses como entrada, asegúrate de poner `type=\"numpy\"` para que tu función reciba la imagen como un array de NumPy (el formato que usa OpenCV).\n",
        "    *   `gr.Slider`: Para ajustar valores numéricos (como umbrales o tamaños de kernel).\n",
        "    *   `gr.Textbox`: Para entrada o salida de texto.\n",
        "*   `.launch()`: El método que inicia tu aplicación web. Cuando lo ejecutes en Colab, Gradio te dará un enlace público."
      ],
      "metadata": {
        "id": "V7fJx-Vnb5tr"
      }
    },
    {
      "cell_type": "markdown",
      "source": [
        "4. Ejemplos Prácticos de PDI con Gradio\n",
        "Vamos a ver algunos ejemplos clásicos de PDI y cómo integrarlos con Gradio. Asegúrate de ejecutar cada celda de código.\n",
        "\n",
        "Ejemplo 4.1: Conversión a Escala de Grises\n",
        "Este es nuestro \"Hola Mundo\" de PDI con Gradio. Sube cualquier imagen y la convertirá a escala de grises."
      ],
      "metadata": {
        "id": "5JEieYY0cAYl"
      }
    },
    {
      "cell_type": "code",
      "source": [
        "import gradio as gr\n",
        "import cv2\n",
        "import numpy as np"
      ],
      "metadata": {
        "id": "2wAwJD_vceYP"
      },
      "execution_count": null,
      "outputs": []
    },
    {
      "cell_type": "code",
      "source": [
        "def convertir_a_gris(imagen_entrada):\n",
        "    \"\"\"\n",
        "    Convierte una imagen a color (BGR) a escala de grises.\n",
        "    Gradio pasa la imagen como un array de NumPy.\n",
        "    \"\"\"\n",
        "    if imagen_entrada is None:\n",
        "        return None\n",
        "\n",
        "    # Gradio pasa la imagen como un array de NumPy (alto, ancho, canales)\n",
        "    # OpenCV espera el formato (alto, ancho) para imágenes en escala de grises.\n",
        "    imagen_gris = cv2.cvtColor(imagen_entrada, cv2.COLOR_BGR2GRAY)\n",
        "    return imagen_gris"
      ],
      "metadata": {
        "id": "ikA7BKu4b6nO"
      },
      "execution_count": null,
      "outputs": []
    },
    {
      "cell_type": "code",
      "source": [
        "# Creamos la interfaz de Gradio\n",
        "# fn: la función de PDI que se ejecutará\n",
        "# inputs: el tipo de componente de entrada (una imagen)\n",
        "# outputs: el tipo de componente de salida (una imagen)\n",
        "interfaz_gris = gr.Interface(\n",
        "    fn=convertir_a_gris,\n",
        "    inputs=gr.Image(type=\"numpy\", label=\"Subí una Imagen a Color\"),\n",
        "    outputs=gr.Image(type=\"numpy\", label=\"Imagen en Escala de Grises\"),\n",
        "    title=\"⭐ Conversor de Imagen a Escala de Grises ⭐\",\n",
        "    description=\"Subí una imagen a color para verla convertida a escala de grises al instante.\"\n",
        ")\n",
        "\n",
        "# Lanzamos la interfaz. Haz clic en el enlace público (Running on public URL)\n",
        "# para que puedas compartirlo con quien quieras.\n",
        "interfaz_gris.launch()"
      ],
      "metadata": {
        "colab": {
          "base_uri": "https://localhost:8080/",
          "height": 646
        },
        "id": "srFD9CMeccxd",
        "outputId": "dc5f861d-ab7a-4e45-832c-99a0046a16bd"
      },
      "execution_count": null,
      "outputs": [
        {
          "output_type": "stream",
          "name": "stdout",
          "text": [
            "It looks like you are running Gradio on a hosted a Jupyter notebook. For the Gradio app to work, sharing must be enabled. Automatically setting `share=True` (you can turn this off by setting `share=False` in `launch()` explicitly).\n",
            "\n",
            "Colab notebook detected. To show errors in colab notebook, set debug=True in launch()\n",
            "* Running on public URL: https://4b31bc842aaa3b9cff.gradio.live\n",
            "\n",
            "This share link expires in 1 week. For free permanent hosting and GPU upgrades, run `gradio deploy` from the terminal in the working directory to deploy to Hugging Face Spaces (https://huggingface.co/spaces)\n"
          ]
        },
        {
          "output_type": "display_data",
          "data": {
            "text/plain": [
              "<IPython.core.display.HTML object>"
            ],
            "text/html": [
              "<div><iframe src=\"https://4b31bc842aaa3b9cff.gradio.live\" width=\"100%\" height=\"500\" allow=\"autoplay; camera; microphone; clipboard-read; clipboard-write;\" frameborder=\"0\" allowfullscreen></iframe></div>"
            ]
          },
          "metadata": {}
        },
        {
          "output_type": "execute_result",
          "data": {
            "text/plain": []
          },
          "metadata": {},
          "execution_count": 4
        }
      ]
    },
    {
      "cell_type": "markdown",
      "source": [
        "## Ejemplo 4.2: Aplicar un Filtro Gaussiano Ajustable\n",
        "\n",
        "Aquí, introduciremos un `gr.Slider` para que puedas controlar el nivel de suavizado del filtro Gaussiano. El tamaño del kernel debe ser un número impar."
      ],
      "metadata": {
        "id": "g73zbdQwdF-b"
      }
    },
    {
      "cell_type": "code",
      "source": [
        "def aplicar_filtro_gaussiano(imagen_entrada, ksize_val):\n",
        "    \"\"\"\n",
        "    Aplica un filtro Gaussiano a una imagen.\n",
        "    ksize_val: valor del slider, lo ajustamos para que sea impar.\n",
        "    \"\"\"\n",
        "    if imagen_entrada is None:\n",
        "        return None\n",
        "\n",
        "    # Aseguramos que el tamaño del kernel sea impar para OpenCV\n",
        "    ksize = int(ksize_val)\n",
        "    if ksize % 2 == 0:\n",
        "        ksize += 1 # Si es par, lo convertimos a impar\n",
        "\n",
        "    # Aplicamos el filtro Gaussiano\n",
        "    imagen_suavizada = cv2.GaussianBlur(imagen_entrada, (ksize, ksize), 0)\n",
        "    return imagen_suavizada"
      ],
      "metadata": {
        "id": "RH0xfT2adGcx"
      },
      "execution_count": null,
      "outputs": []
    },
    {
      "cell_type": "code",
      "source": [
        "interfaz_gaussiano = gr.Interface(\n",
        "    fn=aplicar_filtro_gaussiano,\n",
        "    inputs=[\n",
        "        gr.Image(type=\"numpy\", label=\"Subi una Imagen\"),\n",
        "        gr.Slider(minimum=1, maximum=21, step=2, value=5, label=\"Tamaño del Kernel Gaussiano (solo impares)\")\n",
        "    ],\n",
        "    outputs=gr.Image(type=\"numpy\", label=\"Imagen Suavizada\"),\n",
        "    title=\"✨ Filtro Gaussiano Interactivo ✨\",\n",
        "    description=\"Subí una imagen y ajusta el deslizador para cambiar el nivel de suavizado.\"\n",
        ")\n",
        "\n",
        "interfaz_gaussiano.launch()"
      ],
      "metadata": {
        "colab": {
          "base_uri": "https://localhost:8080/",
          "height": 646
        },
        "id": "XOWB5JaudSnn",
        "outputId": "38a5590a-ef8e-47fe-f9f0-c7d5c20748fe"
      },
      "execution_count": null,
      "outputs": [
        {
          "output_type": "stream",
          "name": "stdout",
          "text": [
            "It looks like you are running Gradio on a hosted a Jupyter notebook. For the Gradio app to work, sharing must be enabled. Automatically setting `share=True` (you can turn this off by setting `share=False` in `launch()` explicitly).\n",
            "\n",
            "Colab notebook detected. To show errors in colab notebook, set debug=True in launch()\n",
            "* Running on public URL: https://2bebdfb1c517a33c9e.gradio.live\n",
            "\n",
            "This share link expires in 1 week. For free permanent hosting and GPU upgrades, run `gradio deploy` from the terminal in the working directory to deploy to Hugging Face Spaces (https://huggingface.co/spaces)\n"
          ]
        },
        {
          "output_type": "display_data",
          "data": {
            "text/plain": [
              "<IPython.core.display.HTML object>"
            ],
            "text/html": [
              "<div><iframe src=\"https://2bebdfb1c517a33c9e.gradio.live\" width=\"100%\" height=\"500\" allow=\"autoplay; camera; microphone; clipboard-read; clipboard-write;\" frameborder=\"0\" allowfullscreen></iframe></div>"
            ]
          },
          "metadata": {}
        },
        {
          "output_type": "execute_result",
          "data": {
            "text/plain": []
          },
          "metadata": {},
          "execution_count": 6
        }
      ]
    },
    {
      "cell_type": "markdown",
      "source": [
        "## Ejemplo 4.3: Detección de Bordes con Canny\n",
        "\n",
        "Este ejemplo utiliza dos `gr.Slider` para controlar los umbrales del algoritmo de Canny, un detector de bordes muy popular."
      ],
      "metadata": {
        "id": "2SDIh0FSdnV1"
      }
    },
    {
      "cell_type": "code",
      "source": [
        "def detectar_bordes_canny(imagen_entrada, umbral1, umbral2):\n",
        "    \"\"\"\n",
        "    Detecta bordes en una imagen usando el algoritmo de Canny.\n",
        "    Umbral1 y Umbral2: los dos umbrales para Canny.\n",
        "    \"\"\"\n",
        "    if imagen_entrada is None:\n",
        "        return None\n",
        "\n",
        "    # Canny necesita una imagen en escala de grises.\n",
        "    # Verificamos si la imagen de entrada ya es en escala de grises (2 dimensiones)\n",
        "    # o si es a color (3 dimensiones, con canales).\n",
        "    if len(imagen_entrada.shape) == 3:\n",
        "        imagen_gris = cv2.cvtColor(imagen_entrada, cv2.COLOR_BGR2GRAY)\n",
        "    else:\n",
        "        imagen_gris = imagen_entrada # Ya es gris\n",
        "\n",
        "    # Aplicamos el detector de bordes Canny\n",
        "    bordes = cv2.Canny(imagen_gris, umbral1, umbral2)\n",
        "    return bordes"
      ],
      "metadata": {
        "id": "EaFhpWc1dvBF"
      },
      "execution_count": null,
      "outputs": []
    },
    {
      "cell_type": "code",
      "source": [
        "interfaz_canny = gr.Interface(\n",
        "    fn=detectar_bordes_canny,\n",
        "    inputs=[\n",
        "        gr.Image(type=\"numpy\", label=\"Sube una Imagen\"),\n",
        "        gr.Slider(minimum=0, maximum=255, step=1, value=100, label=\"Umbral Inferior (Threshold 1)\"),\n",
        "        gr.Slider(minimum=0, maximum=255, step=1, value=200, label=\"Umbral Superior (Threshold 2)\")\n",
        "    ],\n",
        "    outputs=gr.Image(type=\"numpy\", label=\"Bordes Detectados\"),\n",
        "    title=\"🔍 Detector de Bordes Canny Interactivo 🔍\",\n",
        "    description=\"Subí una imagen y ajusta los umbrales para encontrar los bordes.\"\n",
        ")\n",
        "\n",
        "interfaz_canny.launch()"
      ],
      "metadata": {
        "colab": {
          "base_uri": "https://localhost:8080/",
          "height": 646
        },
        "id": "lKHwvOYDdnp-",
        "outputId": "ce73d780-f7da-49cb-dbe3-1a39c4b23961"
      },
      "execution_count": null,
      "outputs": [
        {
          "output_type": "stream",
          "name": "stdout",
          "text": [
            "It looks like you are running Gradio on a hosted a Jupyter notebook. For the Gradio app to work, sharing must be enabled. Automatically setting `share=True` (you can turn this off by setting `share=False` in `launch()` explicitly).\n",
            "\n",
            "Colab notebook detected. To show errors in colab notebook, set debug=True in launch()\n",
            "* Running on public URL: https://9a5b44bca7ba1cb861.gradio.live\n",
            "\n",
            "This share link expires in 1 week. For free permanent hosting and GPU upgrades, run `gradio deploy` from the terminal in the working directory to deploy to Hugging Face Spaces (https://huggingface.co/spaces)\n"
          ]
        },
        {
          "output_type": "display_data",
          "data": {
            "text/plain": [
              "<IPython.core.display.HTML object>"
            ],
            "text/html": [
              "<div><iframe src=\"https://9a5b44bca7ba1cb861.gradio.live\" width=\"100%\" height=\"500\" allow=\"autoplay; camera; microphone; clipboard-read; clipboard-write;\" frameborder=\"0\" allowfullscreen></iframe></div>"
            ]
          },
          "metadata": {}
        },
        {
          "output_type": "execute_result",
          "data": {
            "text/plain": []
          },
          "metadata": {},
          "execution_count": 8
        }
      ]
    },
    {
      "cell_type": "markdown",
      "source": [
        "## 5. Tu Turno: ¡Desafío de Codificación!\n",
        "\n",
        "Ahora que viste cómo funciona, es tu turno de crear tu propia interfaz.\n",
        "\n",
        "**Desafío:**\n",
        "\n",
        "Implementa una función de PDI que invierta los colores de una imagen (negativo). Luego, crea una interfaz de Gradio para esta función.\n",
        "\n",
        "**Pistas:**\n",
        "\n",
        "*   Para invertir los colores de una imagen en formato NumPy (que Gradio te da), simplemente resta el valor máximo de píxel (255 para imágenes de 8 bits) al valor actual de cada píxel. Ejemplo: `imagen_invertida = 255 - imagen_entrada`.\n",
        "*   Asegúrate de que tu función maneje correctamente los casos de imágenes en escala de grises y a color, o que se enfoque solo en uno y lo documente."
      ],
      "metadata": {
        "id": "91E4oW_leIq3"
      }
    },
    {
      "cell_type": "code",
      "source": [
        "def invertir_colores(imagen_entrada):\n",
        "    \"\"\"\n",
        "    [TU CÓDIGO ACÁ]\n",
        "    Implementa la lógica para invertir los colores de la imagen.\n",
        "    \"\"\"\n",
        "    if imagen_entrada is None:\n",
        "        return None\n"
      ],
      "metadata": {
        "id": "XJb1A3e1eRnN"
      },
      "execution_count": null,
      "outputs": []
    },
    {
      "cell_type": "code",
      "source": [
        "# Crea tu interfaz de Gradio aquí\n",
        "# [TU CÓDIGO ACÁ]"
      ],
      "metadata": {
        "id": "TUSqTmVMe0lS"
      },
      "execution_count": null,
      "outputs": []
    },
    {
      "cell_type": "markdown",
      "source": [
        "## 6. Más Allá: ¿Qué sigue?\n",
        "\n",
        "Gradio ofrece muchas más opciones y componentes. Una vez que te sientas cómodo con lo básico, puedes explorar:\n",
        "\n",
        "*   `gr.Blocks`: Para diseños de interfaz más complejos y personalizados.\n",
        "*   `gr.Tabs`: Para organizar múltiples funcionalidades en pestañas.\n",
        "*   `gr.State`: Para mantener el estado entre interacciones del usuario.\n",
        "*   Compartir en Hugging Face Spaces: Despliega tus aplicaciones de Gradio de forma gratuita y permanente.\n",
        "\n",
        "¡Espero que este cuaderno te haya dado una base sólida para empezar a crear interfaces increíbles para tus proyectos de PDI! Si tienes preguntas, no dudes en consultar la [documentación oficial de Gradio](https://www.gradio.app/docs/gradio/interface)."
      ],
      "metadata": {
        "id": "Vvfaw_U2fXnM"
      }
    }
  ]
}