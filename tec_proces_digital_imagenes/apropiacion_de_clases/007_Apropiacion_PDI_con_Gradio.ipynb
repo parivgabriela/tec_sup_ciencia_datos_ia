{
  "nbformat": 4,
  "nbformat_minor": 0,
  "metadata": {
    "colab": {
      "provenance": []
    },
    "kernelspec": {
      "name": "python3",
      "display_name": "Python 3"
    },
    "language_info": {
      "name": "python"
    }
  },
  "cells": [
    {
      "cell_type": "markdown",
      "source": [
        "# Creando Interfaces de PDI con Gradio\n",
        "\n",
        "Este cuaderno te guiará paso a paso para crear interfaces interactivas para tus aplicaciones de Procesamiento Digital de Imágenes (PDI) utilizando la librería Gradio.\n",
        "\n",
        "1. ¿Por qué Gradio?\n",
        "Gradio es una herramienta increíblemente útil para construir rápidamente interfaces web para tus modelos o funciones de Python. En PDI, te permite:\n",
        "\n",
        "* Visualizar tus algoritmos: Subi una imagen, aplica tu filtro y observá el resultado al instante.\n",
        "* Prototipar de forma ágil: Probá diferentes ideas sin escribir código complejo de interfaz de usuario.\n",
        "* Compartir tus proyectos: Genera un enlace público para que otros puedan usar tu aplicación de PDI.\n",
        "\n",
        "2. Preparando el Entorno: Instalación de Librerías\n",
        "Primero, necesitamos instalar las librerías necesarias. Ejecuta la siguiente celda para instalar Gradio, OpenCV y NumPy."
      ],
      "metadata": {
        "id": "c2cIPq0BbMQ-"
      }
    },
    {
      "cell_type": "code",
      "execution_count": 10,
      "metadata": {
        "id": "yc3RR7BabLm6"
      },
      "outputs": [],
      "source": [
        "%%capture\n",
        "!pip install gradio opencv-python numpy matplotlib\n",
        "print(\"Librerías instaladas correctamente.\")"
      ]
    },
    {
      "cell_type": "markdown",
      "source": [
        "3. Conceptos Clave de Gradio\n",
        "Gradio es muy intuitivo. Los componentes principales que usaremos son:\n",
        "\n",
        "*   `gr.Interface`: La clase principal para crear nuestra interfaz. Le decimos qué función Python ejecutar, qué tipo de entradas y salidas tiene, y le damos un título y descripción.\n",
        "*   Componentes de Entrada/Salida:\n",
        "    *   `gr.Image`: Para subir, mostrar y manipular imágenes. Cuando lo uses como entrada, asegúrate de poner `type=\"numpy\"` para que tu función reciba la imagen como un array de NumPy (el formato que usa OpenCV).\n",
        "    *   `gr.Slider`: Para ajustar valores numéricos (como umbrales o tamaños de kernel).\n",
        "    *   `gr.Textbox`: Para entrada o salida de texto.\n",
        "*   `.launch()`: El método que inicia tu aplicación web. Cuando lo ejecutes en Colab, Gradio te dará un enlace público."
      ],
      "metadata": {
        "id": "V7fJx-Vnb5tr"
      }
    },
    {
      "cell_type": "markdown",
      "source": [
        "4. Ejemplos Prácticos de PDI con Gradio\n",
        "Vamos a ver algunos ejemplos clásicos de PDI y cómo integrarlos con Gradio. Asegúrate de ejecutar cada celda de código.\n",
        "\n",
        "Ejemplo 4.1: Conversión a Escala de Grises\n",
        "Este es nuestro \"Hola Mundo\" de PDI con Gradio. Sube cualquier imagen y la convertirá a escala de grises."
      ],
      "metadata": {
        "id": "5JEieYY0cAYl"
      }
    },
    {
      "cell_type": "code",
      "source": [
        "import gradio as gr\n",
        "import cv2\n",
        "import numpy as np"
      ],
      "metadata": {
        "id": "2wAwJD_vceYP"
      },
      "execution_count": 11,
      "outputs": []
    },
    {
      "cell_type": "code",
      "source": [
        "def convertir_a_gris(imagen_entrada):\n",
        "    \"\"\"\n",
        "    Convierte una imagen a color (BGR) a escala de grises.\n",
        "    Gradio pasa la imagen como un array de NumPy.\n",
        "    \"\"\"\n",
        "    if imagen_entrada is None:\n",
        "        return None\n",
        "\n",
        "    # Gradio pasa la imagen como un array de NumPy (alto, ancho, canales)\n",
        "    # OpenCV espera el formato (alto, ancho) para imágenes en escala de grises.\n",
        "    imagen_gris = cv2.cvtColor(imagen_entrada, cv2.COLOR_BGR2GRAY)\n",
        "    return imagen_gris"
      ],
      "metadata": {
        "id": "ikA7BKu4b6nO"
      },
      "execution_count": 12,
      "outputs": []
    },
    {
      "cell_type": "markdown",
      "source": [
        "## Ejemplo 4.2: Aplicar un Filtro Gaussiano Ajustable\n",
        "\n",
        "Aquí, introduciremos un `gr.Slider` para que puedas controlar el nivel de suavizado del filtro Gaussiano. El tamaño del kernel debe ser un número impar."
      ],
      "metadata": {
        "id": "g73zbdQwdF-b"
      }
    },
    {
      "cell_type": "code",
      "source": [
        "def aplicar_filtro_gaussiano(imagen_entrada, ksize_val=5):\n",
        "    \"\"\"\n",
        "    Aplica un filtro Gaussiano a una imagen.\n",
        "    ksize_val: valor del slider, lo ajustamos para que sea impar.\n",
        "    \"\"\"\n",
        "    if imagen_entrada is None:\n",
        "        return None\n",
        "\n",
        "    # Aseguramos que el tamaño del kernel sea impar para OpenCV\n",
        "    ksize = int(ksize_val)\n",
        "    if ksize % 2 == 0:\n",
        "        ksize += 1 # Si es par, lo convertimos a impar\n",
        "\n",
        "    # Aplicamos el filtro Gaussiano\n",
        "    imagen_suavizada = cv2.GaussianBlur(imagen_entrada, (ksize, ksize), 0)\n",
        "    return imagen_suavizada"
      ],
      "metadata": {
        "id": "RH0xfT2adGcx"
      },
      "execution_count": 13,
      "outputs": []
    },
    {
      "cell_type": "markdown",
      "source": [
        "## Ejemplo 4.3: Detección de Bordes con Canny\n",
        "\n",
        "Este ejemplo utiliza dos `gr.Slider` para controlar los umbrales del algoritmo de Canny, un detector de bordes muy popular."
      ],
      "metadata": {
        "id": "2SDIh0FSdnV1"
      }
    },
    {
      "cell_type": "code",
      "source": [
        "def detectar_bordes_canny(imagen_entrada, umbral1=100, umbral2=200):\n",
        "    \"\"\"\n",
        "    Detecta bordes en una imagen usando el algoritmo de Canny.\n",
        "    Umbral1 y Umbral2: los dos umbrales para Canny.\n",
        "    \"\"\"\n",
        "    if imagen_entrada is None:\n",
        "        return None\n",
        "\n",
        "    # Canny necesita una imagen en escala de grises.\n",
        "    # Verificamos si la imagen de entrada ya es en escala de grises (2 dimensiones)\n",
        "    # o si es a color (3 dimensiones, con canales).\n",
        "    if len(imagen_entrada.shape) == 3:\n",
        "        imagen_gris = cv2.cvtColor(imagen_entrada, cv2.COLOR_BGR2GRAY)\n",
        "    else:\n",
        "        imagen_gris = imagen_entrada # Ya es gris\n",
        "\n",
        "    # Aplicamos el detector de bordes Canny\n",
        "    bordes = cv2.Canny(imagen_gris, umbral1, umbral2)\n",
        "    return bordes"
      ],
      "metadata": {
        "id": "EaFhpWc1dvBF"
      },
      "execution_count": 14,
      "outputs": []
    },
    {
      "cell_type": "markdown",
      "source": [
        "## 5. Tu Turno: ¡Desafío de Codificación!\n",
        "\n",
        "Ahora que viste cómo funciona, es tu turno de crear tu propia interfaz.\n",
        "\n",
        "**Desafío:**\n",
        "\n",
        "Implementa una función de PDI que invierta los colores de una imagen (negativo). Luego, crea una interfaz de Gradio para esta función.\n",
        "\n",
        "**Pistas:**\n",
        "\n",
        "*   Para invertir los colores de una imagen en formato NumPy (que Gradio te da), simplemente resta el valor máximo de píxel (255 para imágenes de 8 bits) al valor actual de cada píxel. Ejemplo: `imagen_invertida = 255 - imagen_entrada`.\n",
        "*   Asegúrate de que tu función maneje correctamente los casos de imágenes en escala de grises y a color, o que se enfoque solo en uno y lo documente."
      ],
      "metadata": {
        "id": "91E4oW_leIq3"
      }
    },
    {
      "cell_type": "code",
      "source": [
        "def invertir_colores(imagen_entrada):\n",
        "\n",
        "    if imagen_entrada is None:\n",
        "        return None\n",
        "    imagen_invertida = 255 - imagen_entrada\n",
        "    return imagen_invertida\n"
      ],
      "metadata": {
        "id": "XJb1A3e1eRnN"
      },
      "execution_count": 16,
      "outputs": []
    },
    {
      "cell_type": "code",
      "source": [
        "# invertir_colores\n",
        "# Detector de Bordes Canny Interactivo 🔍\n",
        "\n",
        "def reset_image(original: np.ndarray) -> np.ndarray:\n",
        "    return original\n",
        "\n",
        "with gr.Blocks() as demo:\n",
        "    original_image = gr.State(value=None)  # Guarda la imagen original\n",
        "\n",
        "    input_img = gr.Image(type=\"numpy\", label=\"Imagen original\")\n",
        "    output_img = gr.Image(type=\"numpy\", label=\"Imagen transformada\", elem_classes=\"fixed-img\")\n",
        "\n",
        "    btn1 = gr.Button(\"Escala de grises\")\n",
        "    btn2 = gr.Button(\"Filtro Gaussiano\")\n",
        "    btn3 = gr.Button(\"Detectar bordes\")\n",
        "    btn4 = gr.Button(\"Invertir colores\")\n",
        "    btn_reset = gr.Button(\"Reset\")\n",
        "\n",
        "    # Cuando se carga una nueva imagen, la guardamos y la mostramos\n",
        "    def store(img):\n",
        "        return img, img\n",
        "\n",
        "    input_img.change(store, inputs=[input_img], outputs=[output_img, original_image])\n",
        "\n",
        "    btn1.click(convertir_a_gris, inputs=[output_img], outputs=[output_img])\n",
        "    btn2.click(aplicar_filtro_gaussiano, inputs=[output_img], outputs=[output_img])\n",
        "    btn3.click(detectar_bordes_canny, inputs=[output_img], outputs=[output_img])\n",
        "    btn4.click(invertir_colores, inputs=[output_img], outputs=[output_img])\n",
        "    #invertir_colores=[original_image], outputs=[output_img])\n",
        "\n",
        "    # Al cargar una imagen, se ejecuta store():\n",
        "    btn_reset.click(reset_image, inputs=[original_image], outputs=[output_img])\n",
        "\n",
        "\n",
        "demo.launch()"
      ],
      "metadata": {
        "colab": {
          "base_uri": "https://localhost:8080/",
          "height": 645
        },
        "id": "F7o5Z15jQ9l2",
        "outputId": "9ce2bd4c-da5a-43d5-cc95-c2bf1f48678c"
      },
      "execution_count": 22,
      "outputs": [
        {
          "output_type": "stream",
          "name": "stdout",
          "text": [
            "It looks like you are running Gradio on a hosted a Jupyter notebook. For the Gradio app to work, sharing must be enabled. Automatically setting `share=True` (you can turn this off by setting `share=False` in `launch()` explicitly).\n",
            "\n",
            "Colab notebook detected. To show errors in colab notebook, set debug=True in launch()\n",
            "* Running on public URL: https://2bb2c50bdb680ae9c9.gradio.live\n",
            "\n",
            "This share link expires in 1 week. For free permanent hosting and GPU upgrades, run `gradio deploy` from the terminal in the working directory to deploy to Hugging Face Spaces (https://huggingface.co/spaces)\n"
          ]
        },
        {
          "output_type": "display_data",
          "data": {
            "text/plain": [
              "<IPython.core.display.HTML object>"
            ],
            "text/html": [
              "<div><iframe src=\"https://2bb2c50bdb680ae9c9.gradio.live\" width=\"100%\" height=\"500\" allow=\"autoplay; camera; microphone; clipboard-read; clipboard-write;\" frameborder=\"0\" allowfullscreen></iframe></div>"
            ]
          },
          "metadata": {}
        },
        {
          "output_type": "execute_result",
          "data": {
            "text/plain": []
          },
          "metadata": {},
          "execution_count": 22
        }
      ]
    },
    {
      "cell_type": "code",
      "source": [
        "# Crea tu interfaz de Gradio aquí\n",
        "# Creamos la interfaz de Gradio\n",
        "# fn: la función de PDI que se ejecutará\n",
        "# inputs: el tipo de componente de entrada (una imagen)\n",
        "# outputs: el tipo de componente de salida (una imagen)\n",
        "interfaz_gris = gr.Interface(\n",
        "    fn=invertir_colores,\n",
        "    inputs=gr.Image(type=\"numpy\", label=\"Subí una Imagen a Color\"),\n",
        "    outputs=gr.Image(type=\"numpy\", label=\"Imagen en Escala de Grises\"),\n",
        "    title=\"⭐ Invertir colores ⭐\",\n",
        "    description=\"Subí una imagen a color para verla convertida a escala de grises al instante.\"\n",
        ")\n",
        "\n",
        "# Lanzamos la interfaz. Haz clic en el enlace público (Running on public URL)\n",
        "# para que puedas compartirlo con quien quieras.\n",
        "#interfaz_gris.launch()"
      ],
      "metadata": {
        "id": "TUSqTmVMe0lS"
      },
      "execution_count": 18,
      "outputs": []
    },
    {
      "cell_type": "markdown",
      "source": [
        "## 6. Más Allá: ¿Qué sigue?\n",
        "\n",
        "Gradio ofrece muchas más opciones y componentes. Una vez que te sientas cómodo con lo básico, puedes explorar:\n",
        "\n",
        "*   `gr.Blocks`: Para diseños de interfaz más complejos y personalizados.\n",
        "*   `gr.Tabs`: Para organizar múltiples funcionalidades en pestañas.\n",
        "*   `gr.State`: Para mantener el estado entre interacciones del usuario.\n",
        "*   Compartir en Hugging Face Spaces: Despliega tus aplicaciones de Gradio de forma gratuita y permanente.\n",
        "\n",
        "¡Espero que este cuaderno te haya dado una base sólida para empezar a crear interfaces increíbles para tus proyectos de PDI! Si tienes preguntas, no dudes en consultar la [documentación oficial de Gradio](https://www.gradio.app/docs/gradio/interface)."
      ],
      "metadata": {
        "id": "Vvfaw_U2fXnM"
      }
    },
    {
      "cell_type": "markdown",
      "source": [
        "# Apropiación del cuaderno de Gradio\n",
        "\n",
        "Este cuaderno fue intervenido para hacer más dinamica la transformación de la imagen original, a la cual se le puede invertir los colores, y despues ver la imagen en escala de grises, aplicar un filtro gaussiano, y despues volver a invertir los colores.\n",
        "\n",
        "El uso de gradio permite poner a prueba las diferentes transformaciones que vimos en clase  y poder compartirlo."
      ],
      "metadata": {
        "id": "Kc0833y7bwKl"
      }
    }
  ]
}